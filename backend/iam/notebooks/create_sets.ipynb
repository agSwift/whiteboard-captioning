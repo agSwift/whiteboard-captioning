{
 "cells": [
  {
   "attachments": {},
   "cell_type": "markdown",
   "metadata": {},
   "source": [
    "### Manually Splitting IAM Dataset\n",
    "\n",
    "Create our own train, val, test sets from the IAM dataset.\n"
   ]
  },
  {
   "cell_type": "code",
   "execution_count": 22,
   "metadata": {},
   "outputs": [
    {
     "name": "stdout",
     "output_type": "stream",
     "text": [
      "Train: 79.97% (1381)\n",
      "Val 1: 4.98% (86)\n",
      "Val 2: 5.04% (87)\n",
      "Test: 10.02% (173)\n"
     ]
    }
   ],
   "source": [
    "import random\n",
    "\n",
    "# Read all the file names.\n",
    "label_file_names = set()\n",
    "with open(\"../../datasets/IAM/all.txt\") as f:\n",
    "    for line in f:\n",
    "        if line.strip() in label_file_names:\n",
    "            print(line)\n",
    "        label_file_names.add(line.strip())\n",
    "\n",
    "# Shuffle the file names.\n",
    "label_file_names = list(label_file_names)\n",
    "random.shuffle(label_file_names)\n",
    "\n",
    "# Split the file names into sets - 80% train, 5% val_1, 5% val_2, 10% test.\n",
    "train_file_names = set(label_file_names[: int(len(label_file_names) * 0.8)])\n",
    "val_1_file_names = set(\n",
    "    label_file_names[\n",
    "        int(len(label_file_names) * 0.8) : int(len(label_file_names) * 0.85)\n",
    "    ]\n",
    ")\n",
    "val_2_file_names = set(\n",
    "    label_file_names[\n",
    "        int(len(label_file_names) * 0.85) : int(len(label_file_names) * 0.9)\n",
    "    ]\n",
    ")\n",
    "test_file_names = set(label_file_names[int(len(label_file_names) * 0.9) :])\n",
    "\n",
    "# Print percentages of each set.\n",
    "print(\n",
    "    f\"Train: {len(train_file_names) / len(label_file_names) * 100:.2f}% ({len(train_file_names)})\"\n",
    "    f\"\\nVal 1: {len(val_1_file_names) / len(label_file_names) * 100:.2f}% ({len(val_1_file_names)})\"\n",
    "    f\"\\nVal 2: {len(val_2_file_names) / len(label_file_names) * 100:.2f}% ({len(val_2_file_names)})\"\n",
    "    f\"\\nTest: {len(test_file_names) / len(label_file_names) * 100:.2f}% ({len(test_file_names)})\"\n",
    ")\n",
    "\n",
    "# Write the file names to text files.\n",
    "with open(\"../../datasets/IAM/trainset.txt\", \"w\") as f:\n",
    "    for file_name in train_file_names:\n",
    "        f.write(file_name + \"\\n\")\n",
    "with open(\"../../datasets/IAM/valset1.txt\", \"w\") as f:\n",
    "    for file_name in val_1_file_names:\n",
    "        f.write(file_name + \"\\n\")\n",
    "with open(\"../../datasets/IAM/valset2.txt\", \"w\") as f:\n",
    "    for file_name in val_2_file_names:\n",
    "        f.write(file_name + \"\\n\")\n",
    "with open(\"../../datasets/IAM/testset.txt\", \"w\") as f:\n",
    "    for file_name in test_file_names:\n",
    "        f.write(file_name + \"\\n\")"
   ]
  }
 ],
 "metadata": {
  "kernelspec": {
   "display_name": "base",
   "language": "python",
   "name": "python3"
  },
  "language_info": {
   "codemirror_mode": {
    "name": "ipython",
    "version": 3
   },
   "file_extension": ".py",
   "mimetype": "text/x-python",
   "name": "python",
   "nbconvert_exporter": "python",
   "pygments_lexer": "ipython3",
   "version": "3.9.7"
  },
  "orig_nbformat": 4
 },
 "nbformat": 4,
 "nbformat_minor": 2
}
