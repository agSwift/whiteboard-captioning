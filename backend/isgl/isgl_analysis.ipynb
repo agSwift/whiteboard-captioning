{
 "cells": [
  {
   "attachments": {},
   "cell_type": "markdown",
   "metadata": {},
   "source": [
    "### ISGL Dataset Analysis\n",
    "\n",
    "Set up the environment and import all the necessary libraries and modules.\n"
   ]
  },
  {
   "cell_type": "code",
   "execution_count": 2,
   "metadata": {},
   "outputs": [],
   "source": [
    "import re\n",
    "from enum import Enum\n",
    "import math\n",
    "from pathlib import Path\n",
    "from typing import Optional\n",
    "\n",
    "import matplotlib.pyplot as plt\n",
    "import numpy as np\n",
    "import numpy.typing as npt"
   ]
  },
  {
   "attachments": {},
   "cell_type": "markdown",
   "metadata": {},
   "source": [
    "Define the classes and functions used to extract the data from the ISGL dataset.\n"
   ]
  },
  {
   "cell_type": "code",
   "execution_count": 3,
   "metadata": {},
   "outputs": [],
   "source": [
    "class IsglDataDirPath(Enum):\n",
    "    \"\"\"An enum class for the ISGL dataset stroke file directory paths.\"\"\"\n",
    "\n",
    "    NUMBERS = Path(\n",
    "        \"../datasets/ICRGL/ONLINE/CHARACTERS/NUMBER/all image info-number\"\n",
    "    )\n",
    "    LOWERCASE = Path(\n",
    "        \"../datasets/ICRGL/ONLINE/CHARACTERS/LOWER/all image info- lower case\"\n",
    "    )\n",
    "    UPPERCASE = Path(\n",
    "        \"../datasets/ICRGL/ONLINE/CHARACTERS/CAPITAL/capital_all image info\"\n",
    "    )\n",
    "\n",
    "\n",
    "class IsglImagesDirPath(Enum):\n",
    "    \"\"\"An enum class for the ISGL dataset stroke file directory paths.\"\"\"\n",
    "\n",
    "    NUMBERS = Path(\n",
    "        \"../datasets/ICRGL/ONLINE/CHARACTERS/NUMBER/all image-number\"\n",
    "    )\n",
    "    LOWERCASE = Path(\n",
    "        \"../datasets/ICRGL/ONLINE/CHARACTERS/LOWER/all image-lower case\"\n",
    "    )\n",
    "    UPPERCASE = Path(\n",
    "        \"../datasets/ICRGL/ONLINE/CHARACTERS/CAPITAL/capital_all image\"\n",
    "    )\n",
    "\n",
    "\n",
    "def extract_all_data_from_dir(\n",
    "    stroke_data_dir_path: IsglDataDirPath,\n",
    ") -> tuple[npt.NDArray[np.float_], npt.NDArray[np.str_], list[str]]:\n",
    "    \"\"\"Extracts the stroke points and labels from the stroke file directory.\n",
    "\n",
    "    Args:\n",
    "        stroke_data_dir_path (IsglDataDirPath): The stroke file directory path.\n",
    "\n",
    "    Returns:\n",
    "        The stroke points, labels, and image paths.\n",
    "\n",
    "    Raises:\n",
    "        ValueError: If the stroke data directory path is invalid.\n",
    "    \"\"\"\n",
    "    if not isinstance(stroke_data_dir_path, IsglDataDirPath):\n",
    "        raise ValueError(\n",
    "            f\"Invalid stroke data directory path: {stroke_data_dir_path}. \"\n",
    "            f\"Must be an instance of {IsglDataDirPath}.\"\n",
    "        )\n",
    "\n",
    "    # Get all images for the stroke file directory.\n",
    "    images_data_dir_path = IsglImagesDirPath[stroke_data_dir_path.name]\n",
    "    images = sorted(list(images_data_dir_path.value.glob(\"*.bmp\")))\n",
    "\n",
    "    # Get all text files in the stroke file directory.\n",
    "    stroke_files = sorted(list(stroke_data_dir_path.value.glob(\"*.txt\")))\n",
    "\n",
    "    stroke_lens = []\n",
    "    stroke_labels = []\n",
    "\n",
    "    # Go through each stroke file.\n",
    "    for _, stroke_file in enumerate(stroke_files):\n",
    "        assert stroke_file.is_file() and stroke_file.suffix == \".txt\", (\n",
    "            f\"Invalid stroke file: {stroke_file}. \"\n",
    "            f\"Must be a text file with the '.txt' extension.\"\n",
    "        )\n",
    "\n",
    "        num_points = 0\n",
    "        with open(stroke_file, \"r\", encoding=\"utf-8\") as file:\n",
    "            # The first line is the digit/character label.\n",
    "            file_label = file.readline().rstrip()\n",
    "\n",
    "            # The remaining lines are potential stroke points.\n",
    "            file_points = []\n",
    "            for line in file:\n",
    "                line = line.rstrip()\n",
    "\n",
    "                # Check if the line is a point.\n",
    "                if re.fullmatch(r\"[0-9]+\\_[0-9]+\", line):\n",
    "                    num_points += 1\n",
    "\n",
    "                    x_coord, y_coord = line.split(\"_\")\n",
    "                    file_points.append((int(x_coord), int(y_coord)))\n",
    "\n",
    "        stroke_lens.append(len(file_points))\n",
    "        stroke_labels.append(file_label)\n",
    "\n",
    "    assert len(stroke_lens) == len(stroke_labels) == len(images), (\n",
    "        f\"Invalid stroke data directory: {stroke_data_dir_path}. \"\n",
    "        f\"The number of stroke files, stroke labels, and images must be equal.\"\n",
    "    )\n",
    "\n",
    "    return stroke_lens, stroke_labels, images"
   ]
  },
  {
   "attachments": {},
   "cell_type": "markdown",
   "metadata": {},
   "source": [
    "Extract all data from the ISGL dataset.\n"
   ]
  },
  {
   "cell_type": "code",
   "execution_count": 4,
   "metadata": {},
   "outputs": [
    {
     "name": "stdout",
     "output_type": "stream",
     "text": [
      "Number of lowercase strokes: 3314\n",
      "Number of uppercase strokes: 3382\n",
      "Number of numbers strokes: 1289\n",
      "Total number of strokes: 7985\n"
     ]
    }
   ],
   "source": [
    "(\n",
    "    lowercase_stroke_lens,\n",
    "    lowercase_stroke_labels,\n",
    "    lowercase_images,\n",
    ") = extract_all_data_from_dir(IsglDataDirPath.LOWERCASE)\n",
    "(\n",
    "    uppercase_stroke_lens,\n",
    "    uppercase_stroke_labels,\n",
    "    uppercase_images,\n",
    ") = extract_all_data_from_dir(IsglDataDirPath.UPPERCASE)\n",
    "(\n",
    "    numbers_stroke_lens,\n",
    "    numbers_stroke_labels,\n",
    "    numbers_images,\n",
    ") = extract_all_data_from_dir(IsglDataDirPath.NUMBERS)\n",
    "\n",
    "# Combine all the data.\n",
    "all_stroke_lens = (\n",
    "    lowercase_stroke_lens + uppercase_stroke_lens + numbers_stroke_lens\n",
    ")\n",
    "all_stroke_labels = (\n",
    "    lowercase_stroke_labels + uppercase_stroke_labels + numbers_stroke_labels\n",
    ")\n",
    "all_images = lowercase_images + uppercase_images + numbers_images\n",
    "\n",
    "print(f\"Number of lowercase strokes: {len(lowercase_stroke_labels)}\")\n",
    "print(f\"Number of uppercase strokes: {len(uppercase_stroke_labels)}\")\n",
    "print(f\"Number of numbers strokes: {len(numbers_stroke_labels)}\")\n",
    "print(f\"Total number of strokes: {len(all_stroke_labels)}\")\n",
    "\n",
    "all_data = list(zip(all_stroke_lens, all_stroke_labels, all_images))\n",
    "np.random.shuffle(all_data)"
   ]
  },
  {
   "attachments": {},
   "cell_type": "markdown",
   "metadata": {},
   "source": [
    "Define a function to display samples from the given extracted files.\n"
   ]
  },
  {
   "cell_type": "code",
   "execution_count": 5,
   "metadata": {},
   "outputs": [],
   "source": [
    "def display_samples_from_files(\n",
    "    num_samples: int, files: list[tuple], title: Optional[str] = None\n",
    "):\n",
    "    \"\"\"Display samples from the given files.\n",
    "\n",
    "    Args:\n",
    "        num_samples (int): The number of samples to display.\n",
    "        files (list[tuple]): The list of files to display samples from.\n",
    "        title (str): The title of the plot.\n",
    "    \"\"\"\n",
    "    # Get a random sample of files.\n",
    "    random_indices = np.random.choice(\n",
    "        len(files), size=num_samples, replace=False\n",
    "    )\n",
    "\n",
    "    # Calculate the number of rows and columns for the subplots.\n",
    "    num_rows = math.ceil(num_samples / 2)\n",
    "    num_cols = 2 if num_samples > 1 else 1\n",
    "\n",
    "    # Create a grid of subplots.\n",
    "    fig, axs = plt.subplots(num_rows, num_cols, figsize=(8, num_rows * 2))\n",
    "\n",
    "    # If there's only one sample, axs is not a list. Make it a list for consistency.\n",
    "    if num_samples == 1:\n",
    "        axs = [axs]\n",
    "\n",
    "    if title is not None:\n",
    "        # Set the title of the plot to be at the top.\n",
    "        fig.subplots_adjust(top=0.9)\n",
    "        fig.suptitle(title, fontsize=20)\n",
    "\n",
    "    # Display the samples.\n",
    "    for i, idx in enumerate(random_indices):\n",
    "        (\n",
    "            stroke_len,\n",
    "            label,\n",
    "            image,\n",
    "        ) = files[idx]\n",
    "\n",
    "        # Display the stroke image.\n",
    "        axs[i // 2, i % 2].imshow(plt.imread(image))\n",
    "        # Set the title of the subplot.\n",
    "        axs[i // 2, i % 2].set_title(\n",
    "            f\"{label} ({stroke_len} points)\",\n",
    "        )\n",
    "        axs[i // 2, i % 2].title.set_fontsize(15)\n",
    "        # Remove the axis.\n",
    "        axs[i // 2, i % 2].axis(\"off\")\n",
    "\n",
    "    # Hide any unused subplots.\n",
    "    for i in range(num_samples, num_rows * num_cols):\n",
    "        fig.delaxes(axs.flatten()[i])\n",
    "\n",
    "    # Adjust the spacing between subplots.\n",
    "    plt.subplots_adjust(hspace=0.5, wspace=0.1)\n",
    "\n",
    "    # Display the plot.\n",
    "    plt.show()"
   ]
  },
  {
   "attachments": {},
   "cell_type": "markdown",
   "metadata": {},
   "source": [
    "Display random samples from the ISGL dataset.\n"
   ]
  },
  {
   "cell_type": "code",
   "execution_count": 6,
   "metadata": {},
   "outputs": [
    {
     "data": {
      "image/png": "[encoded data removed]",
      "text/plain": [
       "<Figure size 576x720 with 10 Axes>"
      ]
     },
     "metadata": {
      "needs_background": "light"
     },
     "output_type": "display_data"
    }
   ],
   "source": [
    "NUM_SAMPLES = 10\n",
    "display_samples_from_files(\n",
    "    NUM_SAMPLES,\n",
    "    all_data,\n",
    ")"
   ]
  }
 ],
 "metadata": {
  "kernelspec": {
   "display_name": "base",
   "language": "python",
   "name": "python3"
  },
  "language_info": {
   "codemirror_mode": {
    "name": "ipython",
    "version": 3
   },
   "file_extension": ".py",
   "mimetype": "text/x-python",
   "name": "python",
   "nbconvert_exporter": "python",
   "pygments_lexer": "ipython3",
   "version": "3.9.7"
  },
  "orig_nbformat": 4
 },
 "nbformat": 4,
 "nbformat_minor": 2
}
